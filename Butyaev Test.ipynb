{
 "cells": [
  {
   "cell_type": "code",
   "execution_count": 342,
   "id": "b0ad4a93",
   "metadata": {},
   "outputs": [],
   "source": [
    "import numpy as np\n",
    "import pandas as pd\n",
    "\n",
    "X = pd.read_csv(\"us events ad_revenue filtered 03.02-07.02.CSV\")\n",
    "df = pd.DataFrame(X)"
   ]
  },
  {
   "cell_type": "code",
   "execution_count": 343,
   "id": "2dfacede",
   "metadata": {},
   "outputs": [
    {
     "data": {
      "text/html": [
       "<div>\n",
       "<style scoped>\n",
       "    .dataframe tbody tr th:only-of-type {\n",
       "        vertical-align: middle;\n",
       "    }\n",
       "\n",
       "    .dataframe tbody tr th {\n",
       "        vertical-align: top;\n",
       "    }\n",
       "\n",
       "    .dataframe thead th {\n",
       "        text-align: right;\n",
       "    }\n",
       "</style>\n",
       "<table border=\"1\" class=\"dataframe\">\n",
       "  <thead>\n",
       "    <tr style=\"text-align: right;\">\n",
       "      <th></th>\n",
       "      <th>profile_id</th>\n",
       "      <th>os_version</th>\n",
       "      <th>device_manufacturer</th>\n",
       "      <th>device_model</th>\n",
       "      <th>device_type</th>\n",
       "      <th>device_locale</th>\n",
       "      <th>event_name</th>\n",
       "      <th>event_json</th>\n",
       "      <th>event_datetime</th>\n",
       "      <th>event_timestamp</th>\n",
       "      <th>event_receive_datetime</th>\n",
       "      <th>event_receive_timestamp</th>\n",
       "      <th>connection_type</th>\n",
       "      <th>operator_name</th>\n",
       "      <th>country_iso_code</th>\n",
       "      <th>city</th>\n",
       "    </tr>\n",
       "  </thead>\n",
       "  <tbody>\n",
       "    <tr>\n",
       "      <th>0</th>\n",
       "      <td>JLjpGzDHBQm</td>\n",
       "      <td>11</td>\n",
       "      <td>Samsung</td>\n",
       "      <td>Galaxy Tab S6</td>\n",
       "      <td>tablet</td>\n",
       "      <td>en_US</td>\n",
       "      <td>c_ad_revenue</td>\n",
       "      <td>{\"ad_type\":\"banner\",\"placement\":\"\",\"view_index...</td>\n",
       "      <td>2022-02-04 20:02:28</td>\n",
       "      <td>1643994148</td>\n",
       "      <td>2022-02-06 17:58:19</td>\n",
       "      <td>1644159499</td>\n",
       "      <td>wifi</td>\n",
       "      <td>NaN</td>\n",
       "      <td>US</td>\n",
       "      <td>Norwalk</td>\n",
       "    </tr>\n",
       "    <tr>\n",
       "      <th>1</th>\n",
       "      <td>JLjpGzDHBQm</td>\n",
       "      <td>11</td>\n",
       "      <td>Samsung</td>\n",
       "      <td>Galaxy Tab S6</td>\n",
       "      <td>tablet</td>\n",
       "      <td>en_US</td>\n",
       "      <td>c_ad_revenue</td>\n",
       "      <td>{\"ad_type\":\"banner\",\"placement\":\"\",\"view_index...</td>\n",
       "      <td>2022-02-04 20:02:45</td>\n",
       "      <td>1643994165</td>\n",
       "      <td>2022-02-06 17:58:19</td>\n",
       "      <td>1644159499</td>\n",
       "      <td>wifi</td>\n",
       "      <td>NaN</td>\n",
       "      <td>US</td>\n",
       "      <td>Norwalk</td>\n",
       "    </tr>\n",
       "    <tr>\n",
       "      <th>2</th>\n",
       "      <td>JLkVacrzHY6</td>\n",
       "      <td>11</td>\n",
       "      <td>Google</td>\n",
       "      <td>Pixel 2</td>\n",
       "      <td>phone</td>\n",
       "      <td>en_US</td>\n",
       "      <td>c_ad_revenue</td>\n",
       "      <td>{\"ad_type\":\"banner\",\"placement\":\"\",\"view_index...</td>\n",
       "      <td>2022-02-05 17:53:05</td>\n",
       "      <td>1644072785</td>\n",
       "      <td>2022-02-06 16:59:29</td>\n",
       "      <td>1644155969</td>\n",
       "      <td>wifi</td>\n",
       "      <td>Verizon</td>\n",
       "      <td>US</td>\n",
       "      <td>Charlotte</td>\n",
       "    </tr>\n",
       "    <tr>\n",
       "      <th>3</th>\n",
       "      <td>JMC6wG3cX0f</td>\n",
       "      <td>10</td>\n",
       "      <td>Samsung</td>\n",
       "      <td>Galaxy S9</td>\n",
       "      <td>phone</td>\n",
       "      <td>en_US</td>\n",
       "      <td>c_ad_revenue</td>\n",
       "      <td>{\"ad_type\":\"int\",\"placement\":\"next_level\",\"vie...</td>\n",
       "      <td>2022-02-06 17:09:01</td>\n",
       "      <td>1644156541</td>\n",
       "      <td>2022-02-06 17:09:24</td>\n",
       "      <td>1644156564</td>\n",
       "      <td>wifi</td>\n",
       "      <td>T-Mobile</td>\n",
       "      <td>US</td>\n",
       "      <td>Cocoa</td>\n",
       "    </tr>\n",
       "    <tr>\n",
       "      <th>4</th>\n",
       "      <td>JLzWWTJfi1b</td>\n",
       "      <td>10</td>\n",
       "      <td>Samsung</td>\n",
       "      <td>Galaxy S9</td>\n",
       "      <td>phone</td>\n",
       "      <td>en_US</td>\n",
       "      <td>c_ad_revenue</td>\n",
       "      <td>{\"ad_type\":\"banner\",\"placement\":\"\",\"view_index...</td>\n",
       "      <td>2022-02-06 17:15:38</td>\n",
       "      <td>1644156938</td>\n",
       "      <td>2022-02-06 17:16:16</td>\n",
       "      <td>1644156976</td>\n",
       "      <td>cell</td>\n",
       "      <td>Verizon</td>\n",
       "      <td>US</td>\n",
       "      <td>NaN</td>\n",
       "    </tr>\n",
       "    <tr>\n",
       "      <th>...</th>\n",
       "      <td>...</td>\n",
       "      <td>...</td>\n",
       "      <td>...</td>\n",
       "      <td>...</td>\n",
       "      <td>...</td>\n",
       "      <td>...</td>\n",
       "      <td>...</td>\n",
       "      <td>...</td>\n",
       "      <td>...</td>\n",
       "      <td>...</td>\n",
       "      <td>...</td>\n",
       "      <td>...</td>\n",
       "      <td>...</td>\n",
       "      <td>...</td>\n",
       "      <td>...</td>\n",
       "      <td>...</td>\n",
       "    </tr>\n",
       "    <tr>\n",
       "      <th>860074</th>\n",
       "      <td>JLSQY2nx1NQ</td>\n",
       "      <td>12</td>\n",
       "      <td>Samsung</td>\n",
       "      <td>Galaxy S21 Ultra 5G</td>\n",
       "      <td>phone</td>\n",
       "      <td>en_US</td>\n",
       "      <td>c_ad_revenue</td>\n",
       "      <td>{\"ad_type\":\"banner\",\"placement\":\"\",\"view_index...</td>\n",
       "      <td>2022-02-03 08:29:27</td>\n",
       "      <td>1643866167</td>\n",
       "      <td>2022-02-03 08:29:37</td>\n",
       "      <td>1643866177</td>\n",
       "      <td>wifi</td>\n",
       "      <td>Verizon</td>\n",
       "      <td>US</td>\n",
       "      <td>Elmira</td>\n",
       "    </tr>\n",
       "    <tr>\n",
       "      <th>860075</th>\n",
       "      <td>JLKWwju79CA</td>\n",
       "      <td>12</td>\n",
       "      <td>Samsung</td>\n",
       "      <td>SM-G991U</td>\n",
       "      <td>phone</td>\n",
       "      <td>en_US</td>\n",
       "      <td>c_ad_revenue</td>\n",
       "      <td>{\"ad_type\":\"banner\",\"placement\":\"\",\"view_index...</td>\n",
       "      <td>2022-02-03 02:12:51</td>\n",
       "      <td>1643843571</td>\n",
       "      <td>2022-02-03 02:14:48</td>\n",
       "      <td>1643843688</td>\n",
       "      <td>cell</td>\n",
       "      <td>Verizon</td>\n",
       "      <td>US</td>\n",
       "      <td>Cherry Hill</td>\n",
       "    </tr>\n",
       "    <tr>\n",
       "      <th>860076</th>\n",
       "      <td>JLKWwju79CA</td>\n",
       "      <td>12</td>\n",
       "      <td>Samsung</td>\n",
       "      <td>SM-G991U</td>\n",
       "      <td>phone</td>\n",
       "      <td>en_US</td>\n",
       "      <td>c_ad_revenue</td>\n",
       "      <td>{\"ad_type\":\"banner\",\"placement\":\"\",\"view_index...</td>\n",
       "      <td>2022-02-03 02:13:06</td>\n",
       "      <td>1643843586</td>\n",
       "      <td>2022-02-03 02:14:48</td>\n",
       "      <td>1643843688</td>\n",
       "      <td>cell</td>\n",
       "      <td>Verizon</td>\n",
       "      <td>US</td>\n",
       "      <td>Cherry Hill</td>\n",
       "    </tr>\n",
       "    <tr>\n",
       "      <th>860077</th>\n",
       "      <td>JLKWwju79CA</td>\n",
       "      <td>12</td>\n",
       "      <td>Samsung</td>\n",
       "      <td>SM-G991U</td>\n",
       "      <td>phone</td>\n",
       "      <td>en_US</td>\n",
       "      <td>c_ad_revenue</td>\n",
       "      <td>{\"ad_type\":\"banner\",\"placement\":\"\",\"view_index...</td>\n",
       "      <td>2022-02-03 02:13:17</td>\n",
       "      <td>1643843597</td>\n",
       "      <td>2022-02-03 02:14:48</td>\n",
       "      <td>1643843688</td>\n",
       "      <td>cell</td>\n",
       "      <td>Verizon</td>\n",
       "      <td>US</td>\n",
       "      <td>Cherry Hill</td>\n",
       "    </tr>\n",
       "    <tr>\n",
       "      <th>860078</th>\n",
       "      <td>JLKWwju79CA</td>\n",
       "      <td>12</td>\n",
       "      <td>Samsung</td>\n",
       "      <td>SM-G991U</td>\n",
       "      <td>phone</td>\n",
       "      <td>en_US</td>\n",
       "      <td>c_ad_revenue</td>\n",
       "      <td>{\"ad_type\":\"banner\",\"placement\":\"\",\"view_index...</td>\n",
       "      <td>2022-02-03 03:11:44</td>\n",
       "      <td>1643847104</td>\n",
       "      <td>2022-02-03 21:12:34</td>\n",
       "      <td>1643911954</td>\n",
       "      <td>cell</td>\n",
       "      <td>Verizon</td>\n",
       "      <td>US</td>\n",
       "      <td>Cherry Hill</td>\n",
       "    </tr>\n",
       "  </tbody>\n",
       "</table>\n",
       "<p>860079 rows × 16 columns</p>\n",
       "</div>"
      ],
      "text/plain": [
       "         profile_id os_version device_manufacturer         device_model  \\\n",
       "0       JLjpGzDHBQm         11             Samsung        Galaxy Tab S6   \n",
       "1       JLjpGzDHBQm         11             Samsung        Galaxy Tab S6   \n",
       "2       JLkVacrzHY6         11              Google              Pixel 2   \n",
       "3       JMC6wG3cX0f         10             Samsung            Galaxy S9   \n",
       "4       JLzWWTJfi1b         10             Samsung            Galaxy S9   \n",
       "...             ...        ...                 ...                  ...   \n",
       "860074  JLSQY2nx1NQ         12             Samsung  Galaxy S21 Ultra 5G   \n",
       "860075  JLKWwju79CA         12             Samsung             SM-G991U   \n",
       "860076  JLKWwju79CA         12             Samsung             SM-G991U   \n",
       "860077  JLKWwju79CA         12             Samsung             SM-G991U   \n",
       "860078  JLKWwju79CA         12             Samsung             SM-G991U   \n",
       "\n",
       "       device_type device_locale    event_name  \\\n",
       "0           tablet         en_US  c_ad_revenue   \n",
       "1           tablet         en_US  c_ad_revenue   \n",
       "2            phone         en_US  c_ad_revenue   \n",
       "3            phone         en_US  c_ad_revenue   \n",
       "4            phone         en_US  c_ad_revenue   \n",
       "...            ...           ...           ...   \n",
       "860074       phone         en_US  c_ad_revenue   \n",
       "860075       phone         en_US  c_ad_revenue   \n",
       "860076       phone         en_US  c_ad_revenue   \n",
       "860077       phone         en_US  c_ad_revenue   \n",
       "860078       phone         en_US  c_ad_revenue   \n",
       "\n",
       "                                               event_json  \\\n",
       "0       {\"ad_type\":\"banner\",\"placement\":\"\",\"view_index...   \n",
       "1       {\"ad_type\":\"banner\",\"placement\":\"\",\"view_index...   \n",
       "2       {\"ad_type\":\"banner\",\"placement\":\"\",\"view_index...   \n",
       "3       {\"ad_type\":\"int\",\"placement\":\"next_level\",\"vie...   \n",
       "4       {\"ad_type\":\"banner\",\"placement\":\"\",\"view_index...   \n",
       "...                                                   ...   \n",
       "860074  {\"ad_type\":\"banner\",\"placement\":\"\",\"view_index...   \n",
       "860075  {\"ad_type\":\"banner\",\"placement\":\"\",\"view_index...   \n",
       "860076  {\"ad_type\":\"banner\",\"placement\":\"\",\"view_index...   \n",
       "860077  {\"ad_type\":\"banner\",\"placement\":\"\",\"view_index...   \n",
       "860078  {\"ad_type\":\"banner\",\"placement\":\"\",\"view_index...   \n",
       "\n",
       "             event_datetime  event_timestamp event_receive_datetime  \\\n",
       "0       2022-02-04 20:02:28       1643994148    2022-02-06 17:58:19   \n",
       "1       2022-02-04 20:02:45       1643994165    2022-02-06 17:58:19   \n",
       "2       2022-02-05 17:53:05       1644072785    2022-02-06 16:59:29   \n",
       "3       2022-02-06 17:09:01       1644156541    2022-02-06 17:09:24   \n",
       "4       2022-02-06 17:15:38       1644156938    2022-02-06 17:16:16   \n",
       "...                     ...              ...                    ...   \n",
       "860074  2022-02-03 08:29:27       1643866167    2022-02-03 08:29:37   \n",
       "860075  2022-02-03 02:12:51       1643843571    2022-02-03 02:14:48   \n",
       "860076  2022-02-03 02:13:06       1643843586    2022-02-03 02:14:48   \n",
       "860077  2022-02-03 02:13:17       1643843597    2022-02-03 02:14:48   \n",
       "860078  2022-02-03 03:11:44       1643847104    2022-02-03 21:12:34   \n",
       "\n",
       "        event_receive_timestamp connection_type operator_name  \\\n",
       "0                    1644159499            wifi           NaN   \n",
       "1                    1644159499            wifi           NaN   \n",
       "2                    1644155969            wifi       Verizon   \n",
       "3                    1644156564            wifi      T-Mobile   \n",
       "4                    1644156976            cell      Verizon    \n",
       "...                         ...             ...           ...   \n",
       "860074               1643866177            wifi      Verizon    \n",
       "860075               1643843688            cell      Verizon    \n",
       "860076               1643843688            cell      Verizon    \n",
       "860077               1643843688            cell      Verizon    \n",
       "860078               1643911954            cell      Verizon    \n",
       "\n",
       "       country_iso_code         city  \n",
       "0                    US      Norwalk  \n",
       "1                    US      Norwalk  \n",
       "2                    US    Charlotte  \n",
       "3                    US        Cocoa  \n",
       "4                    US          NaN  \n",
       "...                 ...          ...  \n",
       "860074               US       Elmira  \n",
       "860075               US  Cherry Hill  \n",
       "860076               US  Cherry Hill  \n",
       "860077               US  Cherry Hill  \n",
       "860078               US  Cherry Hill  \n",
       "\n",
       "[860079 rows x 16 columns]"
      ]
     },
     "execution_count": 343,
     "metadata": {},
     "output_type": "execute_result"
    }
   ],
   "source": [
    "df"
   ]
  },
  {
   "cell_type": "code",
   "execution_count": 344,
   "id": "d821e53e",
   "metadata": {},
   "outputs": [],
   "source": [
    "# извлекаю информацию о eCPM\n",
    "v = np.arange(df.shape[0], dtype=float)\n",
    "adt = [\"\" for x in range(df.shape[0])]\n",
    "import json \n",
    "for i in range(0, df.shape[0]):\n",
    "    ndict=json.loads(df.iat[i,7]) \n",
    "    v[i] = round(ndict[\"revenue\"]*1000,3)\n",
    "    ndict = json.loads(df[\"event_json\"][i]) \n",
    "    adt[i] = ndict[\"ad_type\"]\n"
   ]
  },
  {
   "cell_type": "code",
   "execution_count": 345,
   "id": "2f138f4b",
   "metadata": {},
   "outputs": [],
   "source": [
    "# создаю столбец eCPM и типа рекламы, добавляю его в дата фрейм\n",
    "dv = pd.DataFrame(data = v, columns =[\"eCPM\"])\n",
    "df[\"eCPM\"] = dv\n",
    "dadt = pd.DataFrame(data = adt, columns =[\"ad_type\"])\n",
    "df[\"ad_type\"] = dadt\n"
   ]
  },
  {
   "cell_type": "code",
   "execution_count": 346,
   "id": "acea26c3",
   "metadata": {
    "scrolled": true
   },
   "outputs": [
    {
     "data": {
      "text/html": [
       "<div>\n",
       "<style scoped>\n",
       "    .dataframe tbody tr th:only-of-type {\n",
       "        vertical-align: middle;\n",
       "    }\n",
       "\n",
       "    .dataframe tbody tr th {\n",
       "        vertical-align: top;\n",
       "    }\n",
       "\n",
       "    .dataframe thead th {\n",
       "        text-align: right;\n",
       "    }\n",
       "</style>\n",
       "<table border=\"1\" class=\"dataframe\">\n",
       "  <thead>\n",
       "    <tr style=\"text-align: right;\">\n",
       "      <th></th>\n",
       "      <th>profile_id</th>\n",
       "      <th>os_version</th>\n",
       "      <th>device_manufacturer</th>\n",
       "      <th>device_model</th>\n",
       "      <th>device_type</th>\n",
       "      <th>device_locale</th>\n",
       "      <th>event_name</th>\n",
       "      <th>event_json</th>\n",
       "      <th>event_datetime</th>\n",
       "      <th>event_timestamp</th>\n",
       "      <th>event_receive_datetime</th>\n",
       "      <th>event_receive_timestamp</th>\n",
       "      <th>connection_type</th>\n",
       "      <th>operator_name</th>\n",
       "      <th>country_iso_code</th>\n",
       "      <th>city</th>\n",
       "      <th>eCPM</th>\n",
       "      <th>ad_type</th>\n",
       "    </tr>\n",
       "  </thead>\n",
       "  <tbody>\n",
       "    <tr>\n",
       "      <th>0</th>\n",
       "      <td>JLjpGzDHBQm</td>\n",
       "      <td>11</td>\n",
       "      <td>Samsung</td>\n",
       "      <td>Galaxy Tab S6</td>\n",
       "      <td>tablet</td>\n",
       "      <td>en_US</td>\n",
       "      <td>c_ad_revenue</td>\n",
       "      <td>{\"ad_type\":\"banner\",\"placement\":\"\",\"view_index...</td>\n",
       "      <td>2022-02-04 20:02:28</td>\n",
       "      <td>1643994148</td>\n",
       "      <td>2022-02-06 17:58:19</td>\n",
       "      <td>1644159499</td>\n",
       "      <td>wifi</td>\n",
       "      <td>NaN</td>\n",
       "      <td>US</td>\n",
       "      <td>Norwalk</td>\n",
       "      <td>0.510</td>\n",
       "      <td>banner</td>\n",
       "    </tr>\n",
       "    <tr>\n",
       "      <th>1</th>\n",
       "      <td>JLjpGzDHBQm</td>\n",
       "      <td>11</td>\n",
       "      <td>Samsung</td>\n",
       "      <td>Galaxy Tab S6</td>\n",
       "      <td>tablet</td>\n",
       "      <td>en_US</td>\n",
       "      <td>c_ad_revenue</td>\n",
       "      <td>{\"ad_type\":\"banner\",\"placement\":\"\",\"view_index...</td>\n",
       "      <td>2022-02-04 20:02:45</td>\n",
       "      <td>1643994165</td>\n",
       "      <td>2022-02-06 17:58:19</td>\n",
       "      <td>1644159499</td>\n",
       "      <td>wifi</td>\n",
       "      <td>NaN</td>\n",
       "      <td>US</td>\n",
       "      <td>Norwalk</td>\n",
       "      <td>0.510</td>\n",
       "      <td>banner</td>\n",
       "    </tr>\n",
       "    <tr>\n",
       "      <th>2</th>\n",
       "      <td>JLkVacrzHY6</td>\n",
       "      <td>11</td>\n",
       "      <td>Google</td>\n",
       "      <td>Pixel 2</td>\n",
       "      <td>phone</td>\n",
       "      <td>en_US</td>\n",
       "      <td>c_ad_revenue</td>\n",
       "      <td>{\"ad_type\":\"banner\",\"placement\":\"\",\"view_index...</td>\n",
       "      <td>2022-02-05 17:53:05</td>\n",
       "      <td>1644072785</td>\n",
       "      <td>2022-02-06 16:59:29</td>\n",
       "      <td>1644155969</td>\n",
       "      <td>wifi</td>\n",
       "      <td>Verizon</td>\n",
       "      <td>US</td>\n",
       "      <td>Charlotte</td>\n",
       "      <td>2.386</td>\n",
       "      <td>banner</td>\n",
       "    </tr>\n",
       "    <tr>\n",
       "      <th>3</th>\n",
       "      <td>JMC6wG3cX0f</td>\n",
       "      <td>10</td>\n",
       "      <td>Samsung</td>\n",
       "      <td>Galaxy S9</td>\n",
       "      <td>phone</td>\n",
       "      <td>en_US</td>\n",
       "      <td>c_ad_revenue</td>\n",
       "      <td>{\"ad_type\":\"int\",\"placement\":\"next_level\",\"vie...</td>\n",
       "      <td>2022-02-06 17:09:01</td>\n",
       "      <td>1644156541</td>\n",
       "      <td>2022-02-06 17:09:24</td>\n",
       "      <td>1644156564</td>\n",
       "      <td>wifi</td>\n",
       "      <td>T-Mobile</td>\n",
       "      <td>US</td>\n",
       "      <td>Cocoa</td>\n",
       "      <td>13.894</td>\n",
       "      <td>int</td>\n",
       "    </tr>\n",
       "    <tr>\n",
       "      <th>4</th>\n",
       "      <td>JLzWWTJfi1b</td>\n",
       "      <td>10</td>\n",
       "      <td>Samsung</td>\n",
       "      <td>Galaxy S9</td>\n",
       "      <td>phone</td>\n",
       "      <td>en_US</td>\n",
       "      <td>c_ad_revenue</td>\n",
       "      <td>{\"ad_type\":\"banner\",\"placement\":\"\",\"view_index...</td>\n",
       "      <td>2022-02-06 17:15:38</td>\n",
       "      <td>1644156938</td>\n",
       "      <td>2022-02-06 17:16:16</td>\n",
       "      <td>1644156976</td>\n",
       "      <td>cell</td>\n",
       "      <td>Verizon</td>\n",
       "      <td>US</td>\n",
       "      <td>NaN</td>\n",
       "      <td>6.828</td>\n",
       "      <td>banner</td>\n",
       "    </tr>\n",
       "    <tr>\n",
       "      <th>...</th>\n",
       "      <td>...</td>\n",
       "      <td>...</td>\n",
       "      <td>...</td>\n",
       "      <td>...</td>\n",
       "      <td>...</td>\n",
       "      <td>...</td>\n",
       "      <td>...</td>\n",
       "      <td>...</td>\n",
       "      <td>...</td>\n",
       "      <td>...</td>\n",
       "      <td>...</td>\n",
       "      <td>...</td>\n",
       "      <td>...</td>\n",
       "      <td>...</td>\n",
       "      <td>...</td>\n",
       "      <td>...</td>\n",
       "      <td>...</td>\n",
       "      <td>...</td>\n",
       "    </tr>\n",
       "    <tr>\n",
       "      <th>860074</th>\n",
       "      <td>JLSQY2nx1NQ</td>\n",
       "      <td>12</td>\n",
       "      <td>Samsung</td>\n",
       "      <td>Galaxy S21 Ultra 5G</td>\n",
       "      <td>phone</td>\n",
       "      <td>en_US</td>\n",
       "      <td>c_ad_revenue</td>\n",
       "      <td>{\"ad_type\":\"banner\",\"placement\":\"\",\"view_index...</td>\n",
       "      <td>2022-02-03 08:29:27</td>\n",
       "      <td>1643866167</td>\n",
       "      <td>2022-02-03 08:29:37</td>\n",
       "      <td>1643866177</td>\n",
       "      <td>wifi</td>\n",
       "      <td>Verizon</td>\n",
       "      <td>US</td>\n",
       "      <td>Elmira</td>\n",
       "      <td>0.020</td>\n",
       "      <td>banner</td>\n",
       "    </tr>\n",
       "    <tr>\n",
       "      <th>860075</th>\n",
       "      <td>JLKWwju79CA</td>\n",
       "      <td>12</td>\n",
       "      <td>Samsung</td>\n",
       "      <td>SM-G991U</td>\n",
       "      <td>phone</td>\n",
       "      <td>en_US</td>\n",
       "      <td>c_ad_revenue</td>\n",
       "      <td>{\"ad_type\":\"banner\",\"placement\":\"\",\"view_index...</td>\n",
       "      <td>2022-02-03 02:12:51</td>\n",
       "      <td>1643843571</td>\n",
       "      <td>2022-02-03 02:14:48</td>\n",
       "      <td>1643843688</td>\n",
       "      <td>cell</td>\n",
       "      <td>Verizon</td>\n",
       "      <td>US</td>\n",
       "      <td>Cherry Hill</td>\n",
       "      <td>6.740</td>\n",
       "      <td>banner</td>\n",
       "    </tr>\n",
       "    <tr>\n",
       "      <th>860076</th>\n",
       "      <td>JLKWwju79CA</td>\n",
       "      <td>12</td>\n",
       "      <td>Samsung</td>\n",
       "      <td>SM-G991U</td>\n",
       "      <td>phone</td>\n",
       "      <td>en_US</td>\n",
       "      <td>c_ad_revenue</td>\n",
       "      <td>{\"ad_type\":\"banner\",\"placement\":\"\",\"view_index...</td>\n",
       "      <td>2022-02-03 02:13:06</td>\n",
       "      <td>1643843586</td>\n",
       "      <td>2022-02-03 02:14:48</td>\n",
       "      <td>1643843688</td>\n",
       "      <td>cell</td>\n",
       "      <td>Verizon</td>\n",
       "      <td>US</td>\n",
       "      <td>Cherry Hill</td>\n",
       "      <td>2.780</td>\n",
       "      <td>banner</td>\n",
       "    </tr>\n",
       "    <tr>\n",
       "      <th>860077</th>\n",
       "      <td>JLKWwju79CA</td>\n",
       "      <td>12</td>\n",
       "      <td>Samsung</td>\n",
       "      <td>SM-G991U</td>\n",
       "      <td>phone</td>\n",
       "      <td>en_US</td>\n",
       "      <td>c_ad_revenue</td>\n",
       "      <td>{\"ad_type\":\"banner\",\"placement\":\"\",\"view_index...</td>\n",
       "      <td>2022-02-03 02:13:17</td>\n",
       "      <td>1643843597</td>\n",
       "      <td>2022-02-03 02:14:48</td>\n",
       "      <td>1643843688</td>\n",
       "      <td>cell</td>\n",
       "      <td>Verizon</td>\n",
       "      <td>US</td>\n",
       "      <td>Cherry Hill</td>\n",
       "      <td>2.780</td>\n",
       "      <td>banner</td>\n",
       "    </tr>\n",
       "    <tr>\n",
       "      <th>860078</th>\n",
       "      <td>JLKWwju79CA</td>\n",
       "      <td>12</td>\n",
       "      <td>Samsung</td>\n",
       "      <td>SM-G991U</td>\n",
       "      <td>phone</td>\n",
       "      <td>en_US</td>\n",
       "      <td>c_ad_revenue</td>\n",
       "      <td>{\"ad_type\":\"banner\",\"placement\":\"\",\"view_index...</td>\n",
       "      <td>2022-02-03 03:11:44</td>\n",
       "      <td>1643847104</td>\n",
       "      <td>2022-02-03 21:12:34</td>\n",
       "      <td>1643911954</td>\n",
       "      <td>cell</td>\n",
       "      <td>Verizon</td>\n",
       "      <td>US</td>\n",
       "      <td>Cherry Hill</td>\n",
       "      <td>2.780</td>\n",
       "      <td>banner</td>\n",
       "    </tr>\n",
       "  </tbody>\n",
       "</table>\n",
       "<p>860079 rows × 18 columns</p>\n",
       "</div>"
      ],
      "text/plain": [
       "         profile_id os_version device_manufacturer         device_model  \\\n",
       "0       JLjpGzDHBQm         11             Samsung        Galaxy Tab S6   \n",
       "1       JLjpGzDHBQm         11             Samsung        Galaxy Tab S6   \n",
       "2       JLkVacrzHY6         11              Google              Pixel 2   \n",
       "3       JMC6wG3cX0f         10             Samsung            Galaxy S9   \n",
       "4       JLzWWTJfi1b         10             Samsung            Galaxy S9   \n",
       "...             ...        ...                 ...                  ...   \n",
       "860074  JLSQY2nx1NQ         12             Samsung  Galaxy S21 Ultra 5G   \n",
       "860075  JLKWwju79CA         12             Samsung             SM-G991U   \n",
       "860076  JLKWwju79CA         12             Samsung             SM-G991U   \n",
       "860077  JLKWwju79CA         12             Samsung             SM-G991U   \n",
       "860078  JLKWwju79CA         12             Samsung             SM-G991U   \n",
       "\n",
       "       device_type device_locale    event_name  \\\n",
       "0           tablet         en_US  c_ad_revenue   \n",
       "1           tablet         en_US  c_ad_revenue   \n",
       "2            phone         en_US  c_ad_revenue   \n",
       "3            phone         en_US  c_ad_revenue   \n",
       "4            phone         en_US  c_ad_revenue   \n",
       "...            ...           ...           ...   \n",
       "860074       phone         en_US  c_ad_revenue   \n",
       "860075       phone         en_US  c_ad_revenue   \n",
       "860076       phone         en_US  c_ad_revenue   \n",
       "860077       phone         en_US  c_ad_revenue   \n",
       "860078       phone         en_US  c_ad_revenue   \n",
       "\n",
       "                                               event_json  \\\n",
       "0       {\"ad_type\":\"banner\",\"placement\":\"\",\"view_index...   \n",
       "1       {\"ad_type\":\"banner\",\"placement\":\"\",\"view_index...   \n",
       "2       {\"ad_type\":\"banner\",\"placement\":\"\",\"view_index...   \n",
       "3       {\"ad_type\":\"int\",\"placement\":\"next_level\",\"vie...   \n",
       "4       {\"ad_type\":\"banner\",\"placement\":\"\",\"view_index...   \n",
       "...                                                   ...   \n",
       "860074  {\"ad_type\":\"banner\",\"placement\":\"\",\"view_index...   \n",
       "860075  {\"ad_type\":\"banner\",\"placement\":\"\",\"view_index...   \n",
       "860076  {\"ad_type\":\"banner\",\"placement\":\"\",\"view_index...   \n",
       "860077  {\"ad_type\":\"banner\",\"placement\":\"\",\"view_index...   \n",
       "860078  {\"ad_type\":\"banner\",\"placement\":\"\",\"view_index...   \n",
       "\n",
       "             event_datetime  event_timestamp event_receive_datetime  \\\n",
       "0       2022-02-04 20:02:28       1643994148    2022-02-06 17:58:19   \n",
       "1       2022-02-04 20:02:45       1643994165    2022-02-06 17:58:19   \n",
       "2       2022-02-05 17:53:05       1644072785    2022-02-06 16:59:29   \n",
       "3       2022-02-06 17:09:01       1644156541    2022-02-06 17:09:24   \n",
       "4       2022-02-06 17:15:38       1644156938    2022-02-06 17:16:16   \n",
       "...                     ...              ...                    ...   \n",
       "860074  2022-02-03 08:29:27       1643866167    2022-02-03 08:29:37   \n",
       "860075  2022-02-03 02:12:51       1643843571    2022-02-03 02:14:48   \n",
       "860076  2022-02-03 02:13:06       1643843586    2022-02-03 02:14:48   \n",
       "860077  2022-02-03 02:13:17       1643843597    2022-02-03 02:14:48   \n",
       "860078  2022-02-03 03:11:44       1643847104    2022-02-03 21:12:34   \n",
       "\n",
       "        event_receive_timestamp connection_type operator_name  \\\n",
       "0                    1644159499            wifi           NaN   \n",
       "1                    1644159499            wifi           NaN   \n",
       "2                    1644155969            wifi       Verizon   \n",
       "3                    1644156564            wifi      T-Mobile   \n",
       "4                    1644156976            cell      Verizon    \n",
       "...                         ...             ...           ...   \n",
       "860074               1643866177            wifi      Verizon    \n",
       "860075               1643843688            cell      Verizon    \n",
       "860076               1643843688            cell      Verizon    \n",
       "860077               1643843688            cell      Verizon    \n",
       "860078               1643911954            cell      Verizon    \n",
       "\n",
       "       country_iso_code         city    eCPM ad_type  \n",
       "0                    US      Norwalk   0.510  banner  \n",
       "1                    US      Norwalk   0.510  banner  \n",
       "2                    US    Charlotte   2.386  banner  \n",
       "3                    US        Cocoa  13.894     int  \n",
       "4                    US          NaN   6.828  banner  \n",
       "...                 ...          ...     ...     ...  \n",
       "860074               US       Elmira   0.020  banner  \n",
       "860075               US  Cherry Hill   6.740  banner  \n",
       "860076               US  Cherry Hill   2.780  banner  \n",
       "860077               US  Cherry Hill   2.780  banner  \n",
       "860078               US  Cherry Hill   2.780  banner  \n",
       "\n",
       "[860079 rows x 18 columns]"
      ]
     },
     "execution_count": 346,
     "metadata": {},
     "output_type": "execute_result"
    }
   ],
   "source": [
    "df"
   ]
  },
  {
   "cell_type": "code",
   "execution_count": 369,
   "id": "8dde516d",
   "metadata": {},
   "outputs": [
    {
     "data": {
      "image/png": "[encoded data removed]",
      "text/plain": [
       "<Figure size 432x288 with 1 Axes>"
      ]
     },
     "metadata": {
      "needs_background": "light"
     },
     "output_type": "display_data"
    }
   ],
   "source": [
    "#cреднее eCPM по всем ос\n",
    "o = pd.unique(df[\"ad_type\"])\n",
    "oe = np.arange(o.shape[0], dtype= float)\n",
    "for i in range(0, o.shape[0]):\n",
    "    oe[i] = df[df[\"ad_type\"] == o[i]][\"eCPM\"].mean()\n",
    "\n",
    "plt.bar(o,oe)\n",
    "plt.title(\"Средний eCPM от типа рекламы\")\n",
    "plt.show()"
   ]
  },
  {
   "cell_type": "code",
   "execution_count": 359,
   "id": "73c44a83",
   "metadata": {},
   "outputs": [
    {
     "data": {
      "image/png": "[encoded data removed]",
      "text/plain": [
       "<Figure size 432x288 with 1 Axes>"
      ]
     },
     "metadata": {
      "needs_background": "light"
     },
     "output_type": "display_data"
    }
   ],
   "source": [
    "#cреднее eCPM по всем ос\n",
    "o = pd.unique(df[\"ad_type\"])\n",
    "oe = np.arange(o.shape[0], dtype= float)\n",
    "for i in range(0, o.shape[0]):\n",
    "    oe[i] = df[df[\"ad_type\"] == o[i]][\"eCPM\"].sum()\n",
    "\n",
    "plt.bar(o,oe)\n",
    "plt.title(\"Суммарный eCPM от типа рекламы\")\n",
    "plt.show()"
   ]
  },
  {
   "cell_type": "markdown",
   "id": "401520cc",
   "metadata": {},
   "source": [
    "Наиболее прибыльный вид рекламы в данном случае - полноэкранная реклама. "
   ]
  },
  {
   "cell_type": "code",
   "execution_count": 361,
   "id": "51a1d761",
   "metadata": {},
   "outputs": [
    {
     "data": {
      "image/png": "[encoded data removed]",
      "text/plain": [
       "<Figure size 432x288 with 1 Axes>"
      ]
     },
     "metadata": {
      "needs_background": "light"
     },
     "output_type": "display_data"
    }
   ],
   "source": [
    "#среднее и суммарное для каждой конкретной ОС\n",
    "import matplotlib.pyplot as plt\n",
    "\n",
    "df1 = df[df[\"ad_type\"] == 'banner']\n",
    "o1 = pd.unique(df1[\"os_version\"])\n",
    "oe1 = np.arange(o1.shape[0], dtype= float)\n",
    "for i in range(0, o1.shape[0]):\n",
    "    oe1[i] = df1[df1[\"os_version\"] == o1[i]][\"eCPM\"].mean()\n",
    "    \n",
    "plt.bar(o1,oe1)\n",
    "plt.title(\"Зависимость среднего показателя eCPM от версии ОС для БАННЕРОВ\")\n",
    "plt.show()\n"
   ]
  },
  {
   "cell_type": "code",
   "execution_count": 362,
   "id": "f0362c56",
   "metadata": {},
   "outputs": [
    {
     "data": {
      "image/png": "[encoded data removed]",
      "text/plain": [
       "<Figure size 432x288 with 1 Axes>"
      ]
     },
     "metadata": {
      "needs_background": "light"
     },
     "output_type": "display_data"
    }
   ],
   "source": [
    "df1 = df[df[\"ad_type\"] == 'banner']\n",
    "o1 = pd.unique(df1[\"os_version\"])\n",
    "oe1 = np.arange(o1.shape[0], dtype= float)\n",
    "for i in range(0, o1.shape[0]):\n",
    "    oe1[i] = df1[df1[\"os_version\"] == o1[i]][\"eCPM\"].sum()\n",
    "    \n",
    "plt.bar(o1,oe1)\n",
    "plt.title(\"Суммарный eCPM от версии ОС для БАННЕРОВ\")\n",
    "plt.show()"
   ]
  },
  {
   "cell_type": "markdown",
   "id": "8db63640",
   "metadata": {},
   "source": [
    "Получается, что, и средний, и суммарный показатели eCPM максимальны на версии 12. Несмотря на то, что средний доход от версий ниже 9 довольно существенный, суммарный доход для этих версий незначителен."
   ]
  },
  {
   "cell_type": "code",
   "execution_count": 365,
   "id": "c851ebea",
   "metadata": {},
   "outputs": [
    {
     "data": {
      "image/png": "[encoded data removed]",
      "text/plain": [
       "<Figure size 432x288 with 1 Axes>"
      ]
     },
     "metadata": {
      "needs_background": "light"
     },
     "output_type": "display_data"
    }
   ],
   "source": [
    "df2 = df[df[\"ad_type\"] == 'int']\n",
    "o2 = pd.unique(df2[\"os_version\"])\n",
    "oe2 = np.arange(o2.shape[0], dtype= float)\n",
    "for i in range(0, o2.shape[0]):\n",
    "    oe2[i] = df2[df2[\"os_version\"] == o2[i]][\"eCPM\"].mean()\n",
    "\n",
    "plt.bar(o2,oe2)\n",
    "plt.title(\"Зависимость среднего показателя eCPM от версии ОС для ПОЛНОЭКРАННОЙ РЕКЛАМЫ\")\n",
    "plt.show()"
   ]
  },
  {
   "cell_type": "code",
   "execution_count": 366,
   "id": "5697a455",
   "metadata": {
    "scrolled": true
   },
   "outputs": [
    {
     "data": {
      "image/png": "[encoded data removed]",
      "text/plain": [
       "<Figure size 432x288 with 1 Axes>"
      ]
     },
     "metadata": {
      "needs_background": "light"
     },
     "output_type": "display_data"
    }
   ],
   "source": [
    "df2 = df[df[\"ad_type\"] == 'int']\n",
    "o2 = pd.unique(df2[\"os_version\"])\n",
    "oe2 = np.arange(o2.shape[0], dtype= float)\n",
    "for i in range(0, o2.shape[0]):\n",
    "    oe2[i] = df2[df2[\"os_version\"] == o2[i]][\"eCPM\"].sum()\n",
    "\n",
    "plt.bar(o2,oe2)\n",
    "plt.title(\"Суммарный eCPM от версии ОС для ПОЛНОЭКРАННОЙ РЕКЛАМЫ\")\n",
    "plt.show()"
   ]
  },
  {
   "cell_type": "markdown",
   "id": "d3b3518d",
   "metadata": {},
   "source": [
    "Опять для версии 12 и средний, и суммарный eCPM максимален. Хотя средний показатель для версии 7.0 высок, суммарный показатель мал. "
   ]
  },
  {
   "cell_type": "code",
   "execution_count": 367,
   "id": "0457c92c",
   "metadata": {},
   "outputs": [
    {
     "data": {
      "image/png": "[encoded data removed]",
      "text/plain": [
       "<Figure size 432x288 with 1 Axes>"
      ]
     },
     "metadata": {
      "needs_background": "light"
     },
     "output_type": "display_data"
    }
   ],
   "source": [
    "df3 = df[df[\"ad_type\"] == 'rv']\n",
    "o3 = pd.unique(df3[\"os_version\"])\n",
    "oe3 = np.arange(o3.shape[0], dtype= float)\n",
    "for i in range(0, o3.shape[0]):\n",
    "    oe3[i] = df3[df3[\"os_version\"] == o3[i]][\"eCPM\"].mean()\n",
    "\n",
    "plt.bar(o3,oe3)\n",
    "plt.title(\"Зависимость среднего показателя eCPM от версии ОС для ВИДЕО\")\n",
    "plt.show()"
   ]
  },
  {
   "cell_type": "code",
   "execution_count": 368,
   "id": "bd84982f",
   "metadata": {},
   "outputs": [
    {
     "data": {
      "image/png": "[encoded data removed]",
      "text/plain": [
       "<Figure size 432x288 with 1 Axes>"
      ]
     },
     "metadata": {
      "needs_background": "light"
     },
     "output_type": "display_data"
    }
   ],
   "source": [
    "df3 = df[df[\"ad_type\"] == 'rv']\n",
    "o3 = pd.unique(df3[\"os_version\"])\n",
    "oe3 = np.arange(o3.shape[0], dtype= float)\n",
    "for i in range(0, o3.shape[0]):\n",
    "    oe3[i] = df3[df3[\"os_version\"] == o3[i]][\"eCPM\"].sum()\n",
    "\n",
    "plt.bar(o3,oe3)\n",
    "plt.title(\"Суммарный eCPM от версии ОС для ВИДЕО\")\n",
    "plt.show()"
   ]
  },
  {
   "cell_type": "markdown",
   "id": "da0745c4",
   "metadata": {},
   "source": [
    "Аналогичный результат. Максимальный доход был получен на версии 12 для полноэкранной рекламы. Он составил около 700000. Это выше чем суммарный доход для видео и для баннеров."
   ]
  },
  {
   "cell_type": "markdown",
   "id": "0aee58d2",
   "metadata": {},
   "source": [
    "Теперь посчитаю среднее для городов."
   ]
  },
  {
   "cell_type": "code",
   "execution_count": 383,
   "id": "f425db68",
   "metadata": {},
   "outputs": [],
   "source": [
    "# функция для поиска среднего eCPM по городам и типу рекламы \n",
    "def sr(k):    \n",
    "    ddf = df[df[\"ad_type\"] == k]\n",
    "    ddf = ddf[ddf['city'].notna()]\n",
    "    o = pd.unique(ddf[\"city\"])\n",
    "    oe = np.arange(o.shape[0], dtype= float)\n",
    "    for i in range(0, o.shape[0]):\n",
    "        oe[i] = ddf[ddf[\"city\"] == o[i]][\"eCPM\"].mean()\n",
    "        \n",
    "    return o, oe        "
   ]
  },
  {
   "cell_type": "markdown",
   "id": "4999f912",
   "metadata": {},
   "source": [
    "# Средний eCPM по городам для разных типов рекламы"
   ]
  },
  {
   "cell_type": "code",
   "execution_count": 384,
   "id": "a1b5a503",
   "metadata": {},
   "outputs": [
    {
     "name": "stdout",
     "output_type": "stream",
     "text": [
      "                 0  eCPM Баннер\n",
      "621      La Crosse    19.326500\n",
      "763  Mountain View    12.750000\n",
      "300          Huron     7.575000\n",
      "698         Oxnard     7.519000\n",
      "430  Lawrenceville     7.519000\n",
      "..             ...          ...\n",
      "673   Bell Gardens     0.041000\n",
      "780          Vista     0.040454\n",
      "103         Malden     0.037920\n",
      "371       Anderson     0.031000\n",
      "590     Canonsburg     0.029333\n",
      "\n",
      "[856 rows x 2 columns]\n"
     ]
    }
   ],
   "source": [
    "o, oe = sr('banner')\n",
    "eCPM1 = pd.DataFrame(o)\n",
    "eCPM1[\"eCPM Баннер\"] = oe\n",
    "sortCPM1 = eCPM1.sort_values(by='eCPM Баннер', ascending=False) \n",
    "print(sortCPM1)\n"
   ]
  },
  {
   "cell_type": "code",
   "execution_count": 385,
   "id": "651baca9",
   "metadata": {},
   "outputs": [
    {
     "name": "stdout",
     "output_type": "stream",
     "text": [
      "                     0  eCPM Полноэкранная реклама\n",
      "385       Madisonville                  437.040000\n",
      "657          La Crosse                  415.159333\n",
      "291       Rohnert Park                  297.600000\n",
      "110             Nashua                  252.555533\n",
      "851            Norwood                  245.529200\n",
      "..                 ...                         ...\n",
      "491  Fort Walton Beach                    2.960250\n",
      "118              Ocala                    2.927000\n",
      "207        Kailua-Kona                    2.910316\n",
      "849          Chantilly                    2.891000\n",
      "673       Lincoln City                    2.750500\n",
      "\n",
      "[869 rows x 2 columns]\n"
     ]
    }
   ],
   "source": [
    "o, oe = sr('int')\n",
    "eCPM2 = pd.DataFrame(o)\n",
    "eCPM2[\"eCPM Полноэкранная реклама\"] = oe\n",
    "sortCPM2 = eCPM2.sort_values(by='eCPM Полноэкранная реклама', ascending=False) \n",
    "print(sortCPM2)"
   ]
  },
  {
   "cell_type": "code",
   "execution_count": 386,
   "id": "075c1786",
   "metadata": {},
   "outputs": [
    {
     "name": "stdout",
     "output_type": "stream",
     "text": [
      "                     0  eCPM Видео\n",
      "100        East Peoria  808.295000\n",
      "428            Norwood  597.984000\n",
      "130        Idaho Falls  366.840000\n",
      "402         Valparaiso  318.750000\n",
      "113        Rocky Mount  290.112000\n",
      "..                 ...         ...\n",
      "348          Uniontown    9.084000\n",
      "382          Bethlehem    7.974235\n",
      "321          Oak Creek    4.178667\n",
      "206  Fort Walton Beach    4.075000\n",
      "446              Utica    3.339500\n",
      "\n",
      "[454 rows x 2 columns]\n"
     ]
    }
   ],
   "source": [
    "o, oe = sr('rv')\n",
    "eCPM3 = pd.DataFrame(o)\n",
    "eCPM3[\"eCPM Видео\"] = oe\n",
    "sortCPM3 = eCPM3.sort_values(by='eCPM Видео', ascending=False) \n",
    "print(sortCPM3)"
   ]
  },
  {
   "cell_type": "markdown",
   "id": "63f70062",
   "metadata": {},
   "source": [
    "# Теперь суммарное eCPM"
   ]
  },
  {
   "cell_type": "code",
   "execution_count": 387,
   "id": "1813ae8c",
   "metadata": {},
   "outputs": [],
   "source": [
    "# функция для поиска суммарного eCPM по городам и типу рекламы \n",
    "def su(k):    \n",
    "    ddf = df[df[\"ad_type\"] == k]\n",
    "    ddf = ddf[ddf['city'].notna()]\n",
    "    o = pd.unique(ddf[\"city\"])\n",
    "    oe = np.arange(o.shape[0], dtype= float)\n",
    "    for i in range(0, o.shape[0]):\n",
    "        oe[i] = ddf[ddf[\"city\"] == o[i]][\"eCPM\"].sum()\n",
    "        \n",
    "    return o, oe   "
   ]
  },
  {
   "cell_type": "markdown",
   "id": "b95aa128",
   "metadata": {},
   "source": [
    "# Суммарный eCPM по городам для баннеров"
   ]
  },
  {
   "cell_type": "code",
   "execution_count": 388,
   "id": "69fdf83d",
   "metadata": {},
   "outputs": [
    {
     "name": "stdout",
     "output_type": "stream",
     "text": [
      "                0  eCPM Баннер\n",
      "16       New York    12707.758\n",
      "10   Indianapolis     9788.361\n",
      "66        Spokane     8862.272\n",
      "44        Houston     8664.560\n",
      "64    Minneapolis     7628.660\n",
      "..            ...          ...\n",
      "616  Strongsville        0.086\n",
      "716      Hartford        0.085\n",
      "574   Federal Way        0.055\n",
      "743      Waukesha        0.045\n",
      "371      Anderson        0.031\n",
      "\n",
      "[856 rows x 2 columns]\n"
     ]
    }
   ],
   "source": [
    "o, oe = su('banner')\n",
    "SeCPM1 = pd.DataFrame(o)\n",
    "SeCPM1[\"eCPM Баннер\"] = oe\n",
    "SsortCPM1 = SeCPM1.sort_values(by='eCPM Баннер', ascending=False) \n",
    "print(SsortCPM1)\n"
   ]
  },
  {
   "cell_type": "markdown",
   "id": "13049797",
   "metadata": {},
   "source": [
    "# Суммарный eCPM по городам для полноэкранной рекламы"
   ]
  },
  {
   "cell_type": "code",
   "execution_count": 389,
   "id": "c1b971d9",
   "metadata": {
    "scrolled": true
   },
   "outputs": [
    {
     "name": "stdout",
     "output_type": "stream",
     "text": [
      "                      0  eCPM Полноэкранная реклама\n",
      "12             New York                   25674.262\n",
      "52         Indianapolis                   21534.424\n",
      "105           Cleveland                   18112.860\n",
      "35          Minneapolis                   17286.300\n",
      "25            Charlotte                   14940.730\n",
      "..                  ...                         ...\n",
      "531     Hoffman Estates                       8.474\n",
      "202  Jacksonville Beach                       7.987\n",
      "605         Federal Way                       5.540\n",
      "118               Ocala                       2.927\n",
      "849           Chantilly                       2.891\n",
      "\n",
      "[869 rows x 2 columns]\n"
     ]
    }
   ],
   "source": [
    "o, oe = su('int')\n",
    "SeCPM2 = pd.DataFrame(o)\n",
    "SeCPM2[\"eCPM Полноэкранная реклама\"] = oe\n",
    "SsortCPM2 = SeCPM2.sort_values(by='eCPM Полноэкранная реклама', ascending=False) \n",
    "print(SsortCPM2)"
   ]
  },
  {
   "cell_type": "markdown",
   "id": "304b6090",
   "metadata": {},
   "source": [
    "# Суммарный eCPM по городам для видео"
   ]
  },
  {
   "cell_type": "code",
   "execution_count": 390,
   "id": "f23ca911",
   "metadata": {},
   "outputs": [
    {
     "name": "stdout",
     "output_type": "stream",
     "text": [
      "                     0  eCPM Видео\n",
      "100        East Peoria  808.295000\n",
      "428            Norwood  597.984000\n",
      "130        Idaho Falls  366.840000\n",
      "402         Valparaiso  318.750000\n",
      "113        Rocky Mount  290.112000\n",
      "..                 ...         ...\n",
      "348          Uniontown    9.084000\n",
      "382          Bethlehem    7.974235\n",
      "321          Oak Creek    4.178667\n",
      "206  Fort Walton Beach    4.075000\n",
      "446              Utica    3.339500\n",
      "\n",
      "[454 rows x 2 columns]\n"
     ]
    }
   ],
   "source": [
    "o, oe = sr('rv')\n",
    "SeCPM3 = pd.DataFrame(o)\n",
    "SeCPM3[\"eCPM Видео\"] = oe\n",
    "SsortCPM3 = SeCPM3.sort_values(by='eCPM Видео', ascending=False) \n",
    "print(SsortCPM3)"
   ]
  },
  {
   "cell_type": "markdown",
   "id": "962dc058",
   "metadata": {},
   "source": [
    "Как и в случае с версиями ОС, полноэкранная реклама прибыльнее. Наиболее прибыльным городом оказался Нью-Йорк. "
   ]
  },
  {
   "cell_type": "code",
   "execution_count": 399,
   "id": "8949ea4e",
   "metadata": {},
   "outputs": [
    {
     "data": {
      "text/plain": [
       "Text(0.5, 1.0, 'Распределение eCPM')"
      ]
     },
     "execution_count": 399,
     "metadata": {},
     "output_type": "execute_result"
    },
    {
     "data": {
      "image/png": "[encoded data removed]",
      "text/plain": [
       "<Figure size 360x360 with 1 Axes>"
      ]
     },
     "metadata": {
      "needs_background": "light"
     },
     "output_type": "display_data"
    }
   ],
   "source": [
    "import seaborn as sns\n",
    "\n",
    "data = df1\n",
    "sns.displot(x='eCPM', data = data)\n",
    "plt.xlim([0,0.6])\n",
    "plt.title(\"Распределение eCPM\")"
   ]
  },
  {
   "cell_type": "markdown",
   "id": "6524b07d",
   "metadata": {},
   "source": [
    "Вывод. В ходе исследования было выяснено, что полноэкранная реклама наиболее прибыльный вид рекламы. Самый прибыльный город - Нью-Йорк. Самая прибыьная версия ОС - 12."
   ]
  }
 ],
 "metadata": {
  "kernelspec": {
   "display_name": "Python 3 (ipykernel)",
   "language": "python",
   "name": "python3"
  },
  "language_info": {
   "codemirror_mode": {
    "name": "ipython",
    "version": 3
   },
   "file_extension": ".py",
   "mimetype": "text/x-python",
   "name": "python",
   "nbconvert_exporter": "python",
   "pygments_lexer": "ipython3",
   "version": "3.9.12"
  }
 },
 "nbformat": 4,
 "nbformat_minor": 5
}
